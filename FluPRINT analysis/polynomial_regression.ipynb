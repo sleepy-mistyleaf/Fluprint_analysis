{
 "cells": [
  {
   "cell_type": "markdown",
   "metadata": {},
   "source": [
    "# Transition to Polynomial Regression\n",
    "\n",
    "### Objective\n",
    "\n",
    "We aim to enhance the predictive performance of our model by transitioning from linear to polynomial regression combined with logistic regression. This approach allows us to capture non-linear relationships between features and the target variable (vaccine_response) in the FluPRINT dataset.\n",
    "\n",
    "### Methodology\n",
    "\n",
    "1.  Polynomial Feature Transformation: We use degrees 1 and 2 to test both linear and quadratic relationships.\n",
    "2. Model Evaluation: Cross-validation is performed to evaluate model performance using the F1 macro score.\n",
    "3. Final Model Testing: The best-performing degree is selected and tested on a separate dataset.\n",
    "\n",
    "### Rationale\n",
    "Polynomial regression can better capture complex interactions in the data, potentially improving classification accuracy compared to linear models. "
   ]
  },
  {
   "cell_type": "markdown",
   "metadata": {},
   "source": [
    "---"
   ]
  },
  {
   "cell_type": "markdown",
   "metadata": {},
   "source": [
    "## Step 1- Setup and Data Loading\n",
    "\n",
    "First, we'll import the required libraries and load our preprocessed data."
   ]
  },
  {
   "cell_type": "code",
   "execution_count": 33,
   "metadata": {},
   "outputs": [],
   "source": [
    "import pandas as pd\n",
    "from sklearn.model_selection import cross_val_score, train_test_split\n",
    "from sklearn.preprocessing import StandardScaler, OneHotEncoder, PolynomialFeatures\n",
    "from sklearn.linear_model import LogisticRegression\n",
    "from sklearn.metrics import accuracy_score, classification_report, confusion_matrix, ConfusionMatrixDisplay\n",
    "from sklearn.pipeline import make_pipeline, Pipeline\n",
    "from sklearn.compose import ColumnTransformer\n",
    "from imblearn.over_sampling import SMOTE\n",
    "import numpy as np\n",
    "import matplotlib.pyplot as plt\n",
    "from sklearn.decomposition import PCA\n",
    "import os\n",
    "import seaborn as sns"
   ]
  },
  {
   "cell_type": "code",
   "execution_count": 23,
   "metadata": {},
   "outputs": [],
   "source": [
    "path_to_fluprint = r\"C:\\Users\\Dana\\OneDrive\\Documents\\Applied Data science\\FluPRINT_database\\FluPRINT_filtered_data\\aggregated_participants.csv\"\n",
    "fluprint_data = pd.read_csv(path_to_fluprint)"
   ]
  },
  {
   "cell_type": "markdown",
   "metadata": {},
   "source": [
    "## Step 2 - Polynomial Regression\n",
    "\n",
    "This code evaluates the performance of polynomial regression combined with logistic regression for predicting vaccine_response using the single feature d_geo_mean, which represents the titre difference between pre- and post-vaccination.\n",
    "\n",
    "Polynomial features are generated for degrees 1 and 2 to compare linear and quadratic relationships. Testing higher-degree polynomials is avoided at this stage to reduce the risk of overfitting, as simpler models are often more generalisable. Cross-validation with 5 folds is used to evaluate model performance, with the F1 macro score chosen as the metric to account for potential class imbalance in the dataset.\n",
    "\n",
    "This process helps determine whether incorporating non-linear relationships improves prediction accuracy compared to a simple linear model."
   ]
  },
  {
   "cell_type": "code",
   "execution_count": null,
   "metadata": {},
   "outputs": [
    {
     "name": "stdout",
     "output_type": "stream",
     "text": [
      "Degree 1 polynomial:\n",
      "Mean F1 score: 0.636 (+/- 0.132)\n",
      "\n",
      "Degree 2 polynomial:\n",
      "Mean F1 score: 0.647 (+/- 0.123)\n",
      "\n",
      "Best polynomial model performance:\n",
      "Accuracy: 0.71\n",
      "              precision    recall  f1-score   support\n",
      "\n",
      "         0.0       0.76      0.82      0.78        38\n",
      "         1.0       0.61      0.52      0.56        21\n",
      "\n",
      "    accuracy                           0.71        59\n",
      "   macro avg       0.68      0.67      0.67        59\n",
      "weighted avg       0.70      0.71      0.71        59\n",
      "\n"
     ]
    }
   ],
   "source": [
    "X = fluprint_data[[\"d_geo_mean\"]]\n",
    "y = fluprint_data[\"vaccine_response\"]\n",
    "\n",
    "degrees = [1,2]\n",
    "\n",
    "for degree in degrees:\n",
    "    poly_model = make_pipeline(\n",
    "        PolynomialFeatures(degree=degree, include_bias=False),\n",
    "        LogisticRegression(class_weight = \"balanced\", max_iter = 1000)\n",
    "    )\n",
    "\n",
    "    scores = cross_val_score(poly_model, X, y, cv=5, scoring = \"f1_macro\")\n",
    "\n",
    "    print(f\"Degree {degree} polynomial:\")\n",
    "    print(f\"Mean F1 score: {scores.mean():.3f} (+/- {scores.std() * 2:.3f})\")\n",
    "    print()\n",
    "\n",
    "best_degree = 2\n",
    "X_train, X_test, y_train, y_test = train_test_split(X, y, test_size=0.2, random_state=42)\n",
    "\n",
    "first_poly_model = make_pipeline(\n",
    "    PolynomialFeatures(degree=best_degree, include_bias=False),\n",
    "    LogisticRegression(class_weight='balanced', max_iter=1000)\n",
    ")\n",
    "\n",
    "first_poly_model.fit(X_train, y_train)\n",
    "y_pred = first_poly_model.predict(X_test)\n",
    "\n",
    "print(\"Best polynomial model performance:\")\n",
    "print(f\"Accuracy: {accuracy_score(y_test, y_pred):.2f}\")\n",
    "print(classification_report(y_test, y_pred))"
   ]
  },
  {
   "cell_type": "markdown",
   "metadata": {},
   "source": [
    "### Results Overview\n",
    "\n",
    "#### Cross-Validation Results\n",
    "- **Degree 1 Polynomial**: Mean F1 score of 0.636 with a margin of error of +/- 0.132.\n",
    "- **Degree 2 Polynomial**: Mean F1 score of 0.647 with a margin of error of +/- 0.123.\n",
    "\n",
    "#### Best Polynomial Model Performance (Degree 2)\n",
    "- **Accuracy**: 0.71\n",
    "- **Class 0.0**: Precision 0.76, Recall 0.82, F1-score 0.78, Support 38.\n",
    "- **Class 1.0**: Precision 0.61, Recall 0.52, F1-score 0.56, Support 21.\n",
    "- **Macro Average**: Precision 0.68, Recall 0.67, F1-score 0.67.\n",
    "- **Weighted Average**: Precision 0.70, Recall 0.71, F1-score 0.71.\n",
    "\n",
    "#### Interpretation\n",
    "The degree 2 polynomial model slightly outperforms the degree 1 model in terms of mean F1 score from cross-validation and also has a similar accuracy to the logistic regression model (*logistic_regression -Step 6*). The model performs better on class 0.0 than on class 1.0, indicating potential class imbalance issues. The macro average F1 score (0.67) is lower than the weighted average (0.71), suggesting that the model's performance is influenced by the class distribution."
   ]
  },
  {
   "cell_type": "markdown",
   "metadata": {},
   "source": [
    "---"
   ]
  },
  {
   "cell_type": "markdown",
   "metadata": {},
   "source": [
    "## Step 3 - Polynomial Model with SMOTE"
   ]
  },
  {
   "cell_type": "code",
   "execution_count": 14,
   "metadata": {},
   "outputs": [
    {
     "name": "stdout",
     "output_type": "stream",
     "text": [
      "Degree 1 polynomial with SMOTE:\n",
      "Accuracy: 0.76\n",
      "              precision    recall  f1-score   support\n",
      "\n",
      "         0.0       0.77      0.89      0.83        38\n",
      "         1.0       0.73      0.52      0.61        21\n",
      "\n",
      "    accuracy                           0.76        59\n",
      "   macro avg       0.75      0.71      0.72        59\n",
      "weighted avg       0.76      0.76      0.75        59\n",
      "\n",
      "Degree 2 polynomial with SMOTE:\n",
      "Accuracy: 0.71\n",
      "              precision    recall  f1-score   support\n",
      "\n",
      "         0.0       0.76      0.82      0.78        38\n",
      "         1.0       0.61      0.52      0.56        21\n",
      "\n",
      "    accuracy                           0.71        59\n",
      "   macro avg       0.68      0.67      0.67        59\n",
      "weighted avg       0.70      0.71      0.71        59\n",
      "\n"
     ]
    }
   ],
   "source": [
    "# Load the dataset\n",
    "X = fluprint_data[[\"d_geo_mean\"]]\n",
    "y = fluprint_data[\"vaccine_response\"]\n",
    "\n",
    "# Define polynomial degrees to test\n",
    "degrees = [1, 2]\n",
    "\n",
    "# Split the dataset into training and testing sets\n",
    "X_train, X_test, y_train, y_test = train_test_split(X, y, test_size=0.2, random_state=42)\n",
    "\n",
    "# Apply SMOTE to the training data\n",
    "smote = SMOTE(random_state=42)\n",
    "X_train_resampled, y_train_resampled = smote.fit_resample(X_train, y_train)\n",
    "\n",
    "# Loop through each degree and evaluate the model\n",
    "for degree in degrees:\n",
    "    # Create polynomial features for resampled training data\n",
    "    poly = PolynomialFeatures(degree=degree, include_bias=False)\n",
    "    X_train_poly = poly.fit_transform(X_train_resampled)\n",
    "    \n",
    "    # Fit logistic regression on resampled data with polynomial features\n",
    "    clf = LogisticRegression(class_weight=\"balanced\", max_iter=1000)\n",
    "    clf.fit(X_train_poly, y_train_resampled)\n",
    "    \n",
    "    # Evaluate on test data (apply same polynomial transformation)\n",
    "    X_test_poly = poly.transform(X_test)\n",
    "    y_pred = clf.predict(X_test_poly)\n",
    "    \n",
    "    print(f\"Degree {degree} polynomial with SMOTE:\")\n",
    "    print(f\"Accuracy: {accuracy_score(y_test, y_pred):.2f}\")\n",
    "    print(classification_report(y_test, y_pred))"
   ]
  },
  {
   "cell_type": "markdown",
   "metadata": {},
   "source": [
    "### Overall Performance:\n",
    "- **Accuracy**: 0.76\n",
    "\n",
    "### Class-Specific Performance:\n",
    "- **Low Responders (Class 0):**\n",
    "  - **Recall: 89%**: Good at identifying true low responders. The model is relatively more sensitive to this class.\n",
    "  - **Precision: 77%**: Indicates that some individuals are incorrectly classified as low responders, leading to false positives. \n",
    "- **High Responders (Class 1):**\n",
    "  - **Recall: 52%**: Significantly lower, meaning the model misses a large portion of true high responders.\n",
    "  - **Precision: 73%**: Suggests that when the model *does* predict someone as a high responder, it's more likely to be correct. However, it's not predicting this class frequently enough."
   ]
  },
  {
   "cell_type": "code",
   "execution_count": 20,
   "metadata": {},
   "outputs": [
    {
     "data": {
      "image/png": "[encoded data removed]",
      "text/plain": [
       "<Figure size 640x480 with 2 Axes>"
      ]
     },
     "metadata": {},
     "output_type": "display_data"
    }
   ],
   "source": [
    "# Generate the confusion matrix\n",
    "cm = confusion_matrix(y_test, y_pred)\n",
    "\n",
    "# Display the confusion matrix using ConfusionMatrixDisplay\n",
    "disp = ConfusionMatrixDisplay(confusion_matrix=cm, display_labels=[0, 1])\n",
    "disp.plot(cmap=plt.cm.Blues)\n",
    "plt.title(\"Confusion Matrix\")\n",
    "plt.show()"
   ]
  },
  {
   "cell_type": "markdown",
   "metadata": {},
   "source": [
    "**Interpretation:**  The model excels at identifying Low Responders but struggles with High Responders.\n",
    "\n",
    "### Key Observations:\n",
    "- **Focus on Recall for High Responders:** The primary issue isn't the *accuracy* of predicting High Responders (precision is decent), but the *frequency* (recall is low). The model is too conservative in predicting this class.\n",
    "- **True Positive Bottleneck:** The model struggles to reliably distinguish true positives (high responders) from false negatives.\n",
    "- **Trade-off Between Classes:** The confusion matrix highlights the trade-off: improving recall for Class 1 likely means accepting more false positives for Class 0.\n",
    "\n",
    "### Why is SMOTE Not Fully Addressing Imbalance?\n",
    "Despite using SMOTE, the imbalance issue persists. Possible reasons:\n",
    "1. **Feature Overlap:** If the features of the minority class (high responders) overlap significantly with the majority class (low responders), SMOTE may generate synthetic samples that are difficult for the model to differentiate. These may effectively add noise and not genuinely improve separability.\n",
    "2. **Data Complexity:** The underlying relationships between features and vaccine response may be more complex than a simple polynomial logistic regression can capture, even with SMOTE-enhanced data.  The limited feature set (`d_geo_mean`) could be a contributing factor, preventing SMOTE from working effectively.\n",
    "3. **SMOTE Limitations:** SMOTE creates synthetic samples by interpolating between existing minority class instances. If the original minority class instances are themselves quite diverse, the generated samples might not accurately represent the full spectrum of high responders.\n",
    "\n",
    "### Next Steps:\n",
    "1. **Adjust Classification Threshold**: Experiment with lower thresholds to increase sensitivity towards high responders.\n",
    "2. **Explore Other Models**: Consider tree-based algorithms or other models more capable of handling imbalanced data and complex relationships.\n",
    "3. **Advanced Resampling**: Look into combining SMOTE with under-sampling techniques (e.g., SMOTE-Tomek links) to potentially remove noisy samples and improve class separation.\n",
    "4. **Feature Importance**: Investigate feature importance to determine if `d_geo_mean` is overshadowing other potential predictors or if additional features are necessary.\n",
    "5. **Further Feature Engineering**: Attempt to generate new features from existing ones to better capture the immune response. Consider the ratio of antibody titers, or differences in other immune markers."
   ]
  },
  {
   "cell_type": "markdown",
   "metadata": {},
   "source": [
    "---"
   ]
  },
  {
   "cell_type": "markdown",
   "metadata": {},
   "source": [
    "## Step 4 - Incorporating more features \n",
    "Like in the previous notebook, we will try to improve the model's performance and potentially mitigate class imbalance issues, additional features (`visit_age`, `gender`, and `race`) are included in the model. While these features do not directly address class imbalance, they provide more information that can help the model better distinguish between classes. The use of balanced class weights in logistic regression (`class_weight=\"balanced\"`) is a direct approach to handling class imbalance.\n",
    "\n",
    "**Note:**\n",
    "Considering the last time we have tried this (`logistic_regression Step 7`), the accuracy decreased the accuracy, there is a high likelihood it will do the same in this case."
   ]
  },
  {
   "cell_type": "code",
   "execution_count": 21,
   "metadata": {},
   "outputs": [
    {
     "name": "stdout",
     "output_type": "stream",
     "text": [
      "Degree 1 polynomial:\n",
      "Mean F1 score: 0.638 (+/- 0.119)\n",
      "\n",
      "Degree 2 polynomial:\n",
      "Mean F1 score: 0.642 (+/- 0.121)\n",
      "\n"
     ]
    },
    {
     "name": "stderr",
     "output_type": "stream",
     "text": [
      "C:\\Users\\Dana\\AppData\\Local\\Packages\\PythonSoftwareFoundation.Python.3.12_qbz5n2kfra8p0\\LocalCache\\local-packages\\Python312\\site-packages\\sklearn\\linear_model\\_logistic.py:465: ConvergenceWarning: lbfgs failed to converge (status=1):\n",
      "STOP: TOTAL NO. OF ITERATIONS REACHED LIMIT.\n",
      "\n",
      "Increase the number of iterations (max_iter) or scale the data as shown in:\n",
      "    https://scikit-learn.org/stable/modules/preprocessing.html\n",
      "Please also refer to the documentation for alternative solver options:\n",
      "    https://scikit-learn.org/stable/modules/linear_model.html#logistic-regression\n",
      "  n_iter_i = _check_optimize_result(\n",
      "C:\\Users\\Dana\\AppData\\Local\\Packages\\PythonSoftwareFoundation.Python.3.12_qbz5n2kfra8p0\\LocalCache\\local-packages\\Python312\\site-packages\\sklearn\\linear_model\\_logistic.py:465: ConvergenceWarning: lbfgs failed to converge (status=1):\n",
      "STOP: TOTAL NO. OF ITERATIONS REACHED LIMIT.\n",
      "\n",
      "Increase the number of iterations (max_iter) or scale the data as shown in:\n",
      "    https://scikit-learn.org/stable/modules/preprocessing.html\n",
      "Please also refer to the documentation for alternative solver options:\n",
      "    https://scikit-learn.org/stable/modules/linear_model.html#logistic-regression\n",
      "  n_iter_i = _check_optimize_result(\n",
      "C:\\Users\\Dana\\AppData\\Local\\Packages\\PythonSoftwareFoundation.Python.3.12_qbz5n2kfra8p0\\LocalCache\\local-packages\\Python312\\site-packages\\sklearn\\linear_model\\_logistic.py:465: ConvergenceWarning: lbfgs failed to converge (status=1):\n",
      "STOP: TOTAL NO. OF ITERATIONS REACHED LIMIT.\n",
      "\n",
      "Increase the number of iterations (max_iter) or scale the data as shown in:\n",
      "    https://scikit-learn.org/stable/modules/preprocessing.html\n",
      "Please also refer to the documentation for alternative solver options:\n",
      "    https://scikit-learn.org/stable/modules/linear_model.html#logistic-regression\n",
      "  n_iter_i = _check_optimize_result(\n",
      "C:\\Users\\Dana\\AppData\\Local\\Packages\\PythonSoftwareFoundation.Python.3.12_qbz5n2kfra8p0\\LocalCache\\local-packages\\Python312\\site-packages\\sklearn\\linear_model\\_logistic.py:465: ConvergenceWarning: lbfgs failed to converge (status=1):\n",
      "STOP: TOTAL NO. OF ITERATIONS REACHED LIMIT.\n",
      "\n",
      "Increase the number of iterations (max_iter) or scale the data as shown in:\n",
      "    https://scikit-learn.org/stable/modules/preprocessing.html\n",
      "Please also refer to the documentation for alternative solver options:\n",
      "    https://scikit-learn.org/stable/modules/linear_model.html#logistic-regression\n",
      "  n_iter_i = _check_optimize_result(\n",
      "C:\\Users\\Dana\\AppData\\Local\\Packages\\PythonSoftwareFoundation.Python.3.12_qbz5n2kfra8p0\\LocalCache\\local-packages\\Python312\\site-packages\\sklearn\\linear_model\\_logistic.py:465: ConvergenceWarning: lbfgs failed to converge (status=1):\n",
      "STOP: TOTAL NO. OF ITERATIONS REACHED LIMIT.\n",
      "\n",
      "Increase the number of iterations (max_iter) or scale the data as shown in:\n",
      "    https://scikit-learn.org/stable/modules/preprocessing.html\n",
      "Please also refer to the documentation for alternative solver options:\n",
      "    https://scikit-learn.org/stable/modules/linear_model.html#logistic-regression\n",
      "  n_iter_i = _check_optimize_result(\n",
      "C:\\Users\\Dana\\AppData\\Local\\Packages\\PythonSoftwareFoundation.Python.3.12_qbz5n2kfra8p0\\LocalCache\\local-packages\\Python312\\site-packages\\sklearn\\linear_model\\_logistic.py:465: ConvergenceWarning: lbfgs failed to converge (status=1):\n",
      "STOP: TOTAL NO. OF ITERATIONS REACHED LIMIT.\n",
      "\n",
      "Increase the number of iterations (max_iter) or scale the data as shown in:\n",
      "    https://scikit-learn.org/stable/modules/preprocessing.html\n",
      "Please also refer to the documentation for alternative solver options:\n",
      "    https://scikit-learn.org/stable/modules/linear_model.html#logistic-regression\n",
      "  n_iter_i = _check_optimize_result(\n"
     ]
    },
    {
     "name": "stdout",
     "output_type": "stream",
     "text": [
      "Best polynomial model performance:\n",
      "Accuracy: 0.73\n",
      "              precision    recall  f1-score   support\n",
      "\n",
      "         0.0       0.81      0.76      0.78        38\n",
      "         1.0       0.61      0.67      0.64        21\n",
      "\n",
      "    accuracy                           0.73        59\n",
      "   macro avg       0.71      0.71      0.71        59\n",
      "weighted avg       0.74      0.73      0.73        59\n",
      "\n"
     ]
    }
   ],
   "source": [
    "# Select relevant features and one-hot encode categorical variables\n",
    "X = pd.get_dummies(fluprint_data[[\"d_geo_mean\", \"visit_age\", \"gender\", \"race\"]], columns=[\"gender\", \"race\"], drop_first=True)\n",
    "y = fluprint_data[\"vaccine_response\"]\n",
    "\n",
    "# Define the polynomial degrees to test\n",
    "degrees = [1,2]\n",
    "\n",
    "# Loop through each degree and evaluate the model\n",
    "for degree in degrees:\n",
    "    poly_model = make_pipeline(\n",
    "        PolynomialFeatures(degree=degree, include_bias=False),\n",
    "        LogisticRegression(class_weight = \"balanced\")\n",
    "    )\n",
    "\n",
    "    scores = cross_val_score(poly_model, X, y, cv=5, scoring = \"f1_macro\")\n",
    "\n",
    "    print(f\"Degree {degree} polynomial:\")\n",
    "    print(f\"Mean F1 score: {scores.mean():.3f} (+/- {scores.std() * 2:.3f})\")\n",
    "    print()\n",
    "\n",
    "\n",
    "# Select the best polynomial degree based on cross-validation results\n",
    "best_degree = 2\n",
    "X_train, X_test, y_train, y_test = train_test_split(X, y, test_size=0.2, random_state=42)\n",
    "\n",
    "# Split the dataset into training and testing sets\n",
    "second_poly_model = make_pipeline(\n",
    "    PolynomialFeatures(degree=best_degree, include_bias=False),\n",
    "    LogisticRegression(class_weight='balanced', max_iter=1000, C=0.01)\n",
    ")\n",
    "\n",
    "# Fit the model to the training data\n",
    "second_poly_model.fit(X_train, y_train)\n",
    "\n",
    "# Predict the test data\n",
    "y_pred = second_poly_model.predict(X_test)\n",
    "\n",
    "# Evaluate the model's performance on the test set\n",
    "print(\"Best polynomial model performance:\")\n",
    "print(f\"Accuracy: {accuracy_score(y_test, y_pred):.2f}\")\n",
    "print(classification_report(y_test, y_pred))"
   ]
  },
  {
   "cell_type": "markdown",
   "metadata": {},
   "source": [
    "###  Performance Breakdown:\n",
    "-   **Low Responders (Class 0):**\n",
    "    *   **Precision: 81%**: When the model predicts a low responder, it's correct 81% of the time.\n",
    "    *   **Recall: 76%**: The model identifies 76% of all actual low responders.\n",
    "\n",
    "-   **High Responders (Class 1):**\n",
    "    *   **Precision: 61%**: When the model predicts a high responder, it's correct 61% of the time.\n",
    "    *   **Recall: 67%**: The model identifies 67% of all actual high responders.\n",
    "\n",
    "### Key Observations & Interpretations:\n",
    "*   **Limited Improvement with Added Features**: Adding demographic features (`visit_age`, `gender`, `race`) did *not* lead to a significant improvement in model performance compared to using only `d_geo_mean`. This may indicate:\n",
    "\n",
    "    1.  **Feature Irrelevance:** The added features are not strong predictors of vaccine response, or they are redundant with `d_geo_mean`.\n",
    "    2.  **Feature Interactions:** The relationship between the features and the target is more complex than the model can capture (e.g., non-linear interactions).\n",
    "\n",
    "*   **Persistent Class Imbalance Challenge:** Despite using `class_weight='balanced'`, the model still struggles to achieve high recall for the minority class (High Responders).\n",
    "\n",
    "*   **Convergence Warnings**: The `ConvergenceWarning` messages suggest that the logistic regression solver did not converge within the maximum iterations. This can be caused by:\n",
    "\n",
    "    1.  **Unscaled Data**: The features have different scales, which can make optimization difficult.\n",
    "    2.  **Multicollinearity:** High correlation between features can cause instability in the optimization process. Polynomial features can exacerbate this.\n",
    "\n",
    "*   **Regularization (C=0.01):** The low value of C indicates strong regularization. Regularization prevents overfitting, but too much may impede the model’s ability to capture the underlying relationships in the data, especially with interactions from polynomial features.\n",
    "\n",
    "\n",
    "### Conclusion:\n",
    "\n",
    "While adding more features seemed like a promising approach, it did not yield a significant improvement in model performance in this case. The model is still struggling with the class imbalance, and there are potential issues with feature scaling and convergence. Focus on data preprocessing, feature selection/engineering, model tuning, and explore alternative models."
   ]
  },
  {
   "cell_type": "markdown",
   "metadata": {},
   "source": [
    "---"
   ]
  }
 ],
 "metadata": {
  "kernelspec": {
   "display_name": "Python 3",
   "language": "python",
   "name": "python3"
  },
  "language_info": {
   "codemirror_mode": {
    "name": "ipython",
    "version": 3
   },
   "file_extension": ".py",
   "mimetype": "text/x-python",
   "name": "python",
   "nbconvert_exporter": "python",
   "pygments_lexer": "ipython3",
   "version": "3.12.9"
  }
 },
 "nbformat": 4,
 "nbformat_minor": 2
}
