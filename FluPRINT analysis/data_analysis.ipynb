{
 "cells": [
  {
   "cell_type": "markdown",
   "metadata": {},
   "source": [
    "# Statistical Analysis and Advanced Visualisation of FluPRINT Data\n",
    "\n",
    "## Introduction\n",
    "\n",
    "This notebook delves deeper into the FluPRINT dataset, focusing on statistical analysis and advanced data visualization techniques. We aim to uncover significant relationships, trends, and patterns that will inform our predictive modeling of vaccine responses."
   ]
  },
  {
   "cell_type": "markdown",
   "metadata": {},
   "source": [
    "---"
   ]
  },
  {
   "cell_type": "markdown",
   "metadata": {},
   "source": [
    "## Step 1- Setup and Data Loading\n",
    "\n",
    "First, we'll import the required libraries and load our preprocessed data."
   ]
  },
  {
   "cell_type": "code",
   "execution_count": null,
   "metadata": {},
   "outputs": [],
   "source": [
    "import csv\n",
    "import os\n",
    "import pandas as pd\n",
    "import numpy as np\n",
    "import seaborn as sns\n",
    "import matplotlib.pyplot as plt\n",
    "from scipy.stats import pearsonr, ttest_ind, chi2_contingency, f_oneway, levene"
   ]
  },
  {
   "cell_type": "markdown",
   "metadata": {},
   "source": [
    "## Data Loading\n",
    "\n",
    "We begin by loading the preprocessed FluPRINT dataset (`Fluprint.csv`). This dataset has already been cleaned and filtered in the 'data_aquisition_preprocessing' notebook, with unnecessary columns removed."
   ]
  },
  {
   "cell_type": "code",
   "execution_count": 3,
   "metadata": {},
   "outputs": [
    {
     "data": {
      "text/html": [
       "<div>\n",
       "<style scoped>\n",
       "    .dataframe tbody tr th:only-of-type {\n",
       "        vertical-align: middle;\n",
       "    }\n",
       "\n",
       "    .dataframe tbody tr th {\n",
       "        vertical-align: top;\n",
       "    }\n",
       "\n",
       "    .dataframe thead th {\n",
       "        text-align: right;\n",
       "    }\n",
       "</style>\n",
       "<table border=\"1\" class=\"dataframe\">\n",
       "  <thead>\n",
       "    <tr style=\"text-align: right;\">\n",
       "      <th></th>\n",
       "      <th>donor_id</th>\n",
       "      <th>study_id</th>\n",
       "      <th>gender</th>\n",
       "      <th>race</th>\n",
       "      <th>visit_year</th>\n",
       "      <th>visit_type_hai</th>\n",
       "      <th>visit_age</th>\n",
       "      <th>vaccine</th>\n",
       "      <th>geo_mean</th>\n",
       "      <th>d_geo_mean</th>\n",
       "      <th>vaccine_response</th>\n",
       "    </tr>\n",
       "  </thead>\n",
       "  <tbody>\n",
       "    <tr>\n",
       "      <th>0</th>\n",
       "      <td>49</td>\n",
       "      <td>29</td>\n",
       "      <td>Male</td>\n",
       "      <td>Caucasian</td>\n",
       "      <td>2014</td>\n",
       "      <td>pre</td>\n",
       "      <td>9.71</td>\n",
       "      <td>1.0</td>\n",
       "      <td>269.09</td>\n",
       "      <td>1.0</td>\n",
       "      <td>0.0</td>\n",
       "    </tr>\n",
       "    <tr>\n",
       "      <th>1</th>\n",
       "      <td>50</td>\n",
       "      <td>29</td>\n",
       "      <td>Female</td>\n",
       "      <td>Caucasian</td>\n",
       "      <td>2014</td>\n",
       "      <td>pre</td>\n",
       "      <td>12.31</td>\n",
       "      <td>1.0</td>\n",
       "      <td>320.00</td>\n",
       "      <td>1.0</td>\n",
       "      <td>0.0</td>\n",
       "    </tr>\n",
       "    <tr>\n",
       "      <th>2</th>\n",
       "      <td>51</td>\n",
       "      <td>29</td>\n",
       "      <td>Male</td>\n",
       "      <td>Other</td>\n",
       "      <td>2014</td>\n",
       "      <td>pre</td>\n",
       "      <td>9.86</td>\n",
       "      <td>1.0</td>\n",
       "      <td>134.54</td>\n",
       "      <td>1.0</td>\n",
       "      <td>0.0</td>\n",
       "    </tr>\n",
       "    <tr>\n",
       "      <th>3</th>\n",
       "      <td>53</td>\n",
       "      <td>29</td>\n",
       "      <td>Female</td>\n",
       "      <td>Asian</td>\n",
       "      <td>2014</td>\n",
       "      <td>pre</td>\n",
       "      <td>9.01</td>\n",
       "      <td>4.0</td>\n",
       "      <td>47.57</td>\n",
       "      <td>2.0</td>\n",
       "      <td>0.0</td>\n",
       "    </tr>\n",
       "    <tr>\n",
       "      <th>4</th>\n",
       "      <td>54</td>\n",
       "      <td>29</td>\n",
       "      <td>Male</td>\n",
       "      <td>Asian</td>\n",
       "      <td>2014</td>\n",
       "      <td>pre</td>\n",
       "      <td>10.47</td>\n",
       "      <td>4.0</td>\n",
       "      <td>67.27</td>\n",
       "      <td>2.0</td>\n",
       "      <td>0.0</td>\n",
       "    </tr>\n",
       "  </tbody>\n",
       "</table>\n",
       "</div>"
      ],
      "text/plain": [
       "   donor_id  study_id  gender       race  visit_year visit_type_hai  \\\n",
       "0        49        29    Male  Caucasian        2014            pre   \n",
       "1        50        29  Female  Caucasian        2014            pre   \n",
       "2        51        29    Male      Other        2014            pre   \n",
       "3        53        29  Female      Asian        2014            pre   \n",
       "4        54        29    Male      Asian        2014            pre   \n",
       "\n",
       "   visit_age  vaccine  geo_mean  d_geo_mean  vaccine_response  \n",
       "0       9.71      1.0    269.09         1.0               0.0  \n",
       "1      12.31      1.0    320.00         1.0               0.0  \n",
       "2       9.86      1.0    134.54         1.0               0.0  \n",
       "3       9.01      4.0     47.57         2.0               0.0  \n",
       "4      10.47      4.0     67.27         2.0               0.0  "
      ]
     },
     "metadata": {},
     "output_type": "display_data"
    },
    {
     "name": "stdout",
     "output_type": "stream",
     "text": [
      "<class 'pandas.core.frame.DataFrame'>\n",
      "RangeIndex: 293 entries, 0 to 292\n",
      "Data columns (total 11 columns):\n",
      " #   Column            Non-Null Count  Dtype  \n",
      "---  ------            --------------  -----  \n",
      " 0   donor_id          293 non-null    int64  \n",
      " 1   study_id          293 non-null    int64  \n",
      " 2   gender            293 non-null    object \n",
      " 3   race              292 non-null    object \n",
      " 4   visit_year        293 non-null    int64  \n",
      " 5   visit_type_hai    293 non-null    object \n",
      " 6   visit_age         293 non-null    float64\n",
      " 7   vaccine           293 non-null    float64\n",
      " 8   geo_mean          293 non-null    float64\n",
      " 9   d_geo_mean        293 non-null    float64\n",
      " 10  vaccine_response  293 non-null    float64\n",
      "dtypes: float64(5), int64(3), object(3)\n",
      "memory usage: 25.3+ KB\n",
      "None\n"
     ]
    }
   ],
   "source": [
    "# Load the preprocessed dataset\n",
    "data_path = r\"C:\\Users\\OneDrive\\Documents\\Applied Data science\\FluPRINT_database\\FluPRINT_filtered_data\\aggregated_participants.csv\"\n",
    "fluprint_data = pd.read_csv(data_path)\n",
    "\n",
    "# Display basic information about the dataset\n",
    "display(fluprint_data.head())\n",
    "print(fluprint_data.info())"
   ]
  },
  {
   "cell_type": "markdown",
   "metadata": {},
   "source": [
    "### Age distribution"
   ]
  },
  {
   "cell_type": "code",
   "execution_count": 6,
   "metadata": {},
   "outputs": [
    {
     "name": "stdout",
     "output_type": "stream",
     "text": [
      "Gender Distribution:\n",
      "gender\n",
      "Female    172\n",
      "Male      121\n",
      "Name: count, dtype: int64\n"
     ]
    }
   ],
   "source": [
    "gender_counts = fluprint_data['gender'].value_counts()\n",
    "print(\"Gender Distribution:\")\n",
    "print(gender_counts)"
   ]
  },
  {
   "cell_type": "markdown",
   "metadata": {},
   "source": [
    "### Race Distribution"
   ]
  },
  {
   "cell_type": "code",
   "execution_count": 7,
   "metadata": {},
   "outputs": [
    {
     "name": "stdout",
     "output_type": "stream",
     "text": [
      "\n",
      "Race Distribution:\n",
      "race\n",
      "Caucasian                    155\n",
      "Other                         85\n",
      "Asian                         45\n",
      "Black or African American      4\n",
      "Hispanic/Latino                3\n",
      "Name: count, dtype: int64\n"
     ]
    }
   ],
   "source": [
    "race_counts = fluprint_data['race'].value_counts()\n",
    "print(\"\\nRace Distribution:\")\n",
    "print(race_counts)"
   ]
  },
  {
   "cell_type": "markdown",
   "metadata": {},
   "source": [
    "## Statistics"
   ]
  },
  {
   "cell_type": "code",
   "execution_count": 50,
   "metadata": {},
   "outputs": [
    {
     "name": "stdout",
     "output_type": "stream",
     "text": [
      "Number of participants across the studies: 740\n"
     ]
    }
   ],
   "source": [
    "participants_numbers = fluprint_filtered[\"donor_id\"].nunique()\n",
    "print(f\"Number of participants across the studies: {participants_numbers}\")"
   ]
  },
  {
   "cell_type": "code",
   "execution_count": 11,
   "metadata": {},
   "outputs": [
    {
     "name": "stdout",
     "output_type": "stream",
     "text": [
      "\n",
      "Correlation Matrix:\n"
     ]
    },
    {
     "data": {
      "text/html": [
       "<div>\n",
       "<style scoped>\n",
       "    .dataframe tbody tr th:only-of-type {\n",
       "        vertical-align: middle;\n",
       "    }\n",
       "\n",
       "    .dataframe tbody tr th {\n",
       "        vertical-align: top;\n",
       "    }\n",
       "\n",
       "    .dataframe thead th {\n",
       "        text-align: right;\n",
       "    }\n",
       "</style>\n",
       "<table border=\"1\" class=\"dataframe\">\n",
       "  <thead>\n",
       "    <tr style=\"text-align: right;\">\n",
       "      <th></th>\n",
       "      <th>geo_mean</th>\n",
       "      <th>d_geo_mean</th>\n",
       "      <th>vaccine_response</th>\n",
       "      <th>vaccine</th>\n",
       "    </tr>\n",
       "  </thead>\n",
       "  <tbody>\n",
       "    <tr>\n",
       "      <th>geo_mean</th>\n",
       "      <td>1.000000</td>\n",
       "      <td>-0.199802</td>\n",
       "      <td>-0.111422</td>\n",
       "      <td>0.079247</td>\n",
       "    </tr>\n",
       "    <tr>\n",
       "      <th>d_geo_mean</th>\n",
       "      <td>-0.199802</td>\n",
       "      <td>1.000000</td>\n",
       "      <td>0.292278</td>\n",
       "      <td>0.155443</td>\n",
       "    </tr>\n",
       "    <tr>\n",
       "      <th>vaccine_response</th>\n",
       "      <td>-0.111422</td>\n",
       "      <td>0.292278</td>\n",
       "      <td>1.000000</td>\n",
       "      <td>0.078910</td>\n",
       "    </tr>\n",
       "    <tr>\n",
       "      <th>vaccine</th>\n",
       "      <td>0.079247</td>\n",
       "      <td>0.155443</td>\n",
       "      <td>0.078910</td>\n",
       "      <td>1.000000</td>\n",
       "    </tr>\n",
       "  </tbody>\n",
       "</table>\n",
       "</div>"
      ],
      "text/plain": [
       "                  geo_mean  d_geo_mean  vaccine_response   vaccine\n",
       "geo_mean          1.000000   -0.199802         -0.111422  0.079247\n",
       "d_geo_mean       -0.199802    1.000000          0.292278  0.155443\n",
       "vaccine_response -0.111422    0.292278          1.000000  0.078910\n",
       "vaccine           0.079247    0.155443          0.078910  1.000000"
      ]
     },
     "metadata": {},
     "output_type": "display_data"
    }
   ],
   "source": [
    "# Select the columns you're interested in\n",
    "columns_of_interest = ['geo_mean', 'd_geo_mean', 'vaccine_response', 'vaccine']\n",
    "\n",
    "# Calculate the correlation matrix for these columns\n",
    "correlation_matrix = fluprint_data[columns_of_interest].corr()\n",
    "\n",
    "print(\"\\nCorrelation Matrix:\")\n",
    "display(correlation_matrix)"
   ]
  },
  {
   "cell_type": "markdown",
   "metadata": {},
   "source": [
    "### Chi-square test of independence"
   ]
  },
  {
   "cell_type": "code",
   "execution_count": null,
   "metadata": {},
   "outputs": [
    {
     "name": "stdout",
     "output_type": "stream",
     "text": [
      "Chi-square statistic: 0.03443654723489459\n",
      "p-value: 0.8527813002913769\n"
     ]
    }
   ],
   "source": [
    "contingency_table = pd.crosstab(fluprint_data['gender'], fluprint_data['vaccine_response'])\n",
    "chi2, p_value, dof, expected = chi2_contingency(contingency_table)\n",
    "print(f\"Chi-square statistic: {chi2}\")\n",
    "print(f\"p-value: {p_value}\")"
   ]
  },
  {
   "cell_type": "markdown",
   "metadata": {},
   "source": [
    "### One-way ANOVA"
   ]
  },
  {
   "cell_type": "code",
   "execution_count": null,
   "metadata": {},
   "outputs": [
    {
     "name": "stdout",
     "output_type": "stream",
     "text": [
      "F-statistic: nan\n",
      "p-value: nan\n"
     ]
    },
    {
     "name": "stderr",
     "output_type": "stream",
     "text": [
      "C:\\Users\\AppData\\Local\\Temp\\ipykernel_15568\\1250646993.py:4: SmallSampleWarning: One or more sample arguments is too small; all returned values will be NaN. See documentation for sample size requirements.\n",
      "  f_statistic, p_value = f_oneway(*vaccine_responses)\n"
     ]
    }
   ],
   "source": [
    "races = fluprint_data['race'].unique()\n",
    "vaccine_responses = [fluprint_data[fluprint_data['race'] == race]['vaccine_response'] for race in races]\n",
    "f_statistic, p_value = f_oneway(*vaccine_responses)\n",
    "print(f\"F-statistic: {f_statistic}\")\n",
    "print(f\"p-value: {p_value}\")"
   ]
  },
  {
   "cell_type": "markdown",
   "metadata": {},
   "source": [
    "### Two-sample t-test:\n",
    "To compare vaccine response between genders:"
   ]
  },
  {
   "cell_type": "code",
   "execution_count": null,
   "metadata": {},
   "outputs": [
    {
     "name": "stdout",
     "output_type": "stream",
     "text": [
      "T-statistic: -0.3112968241472829\n",
      "p-value: 0.7557978692308014\n"
     ]
    }
   ],
   "source": [
    "male_response = fluprint_data[fluprint_data['gender'] == 'Male']['vaccine_response']\n",
    "female_response = fluprint_data[fluprint_data['gender'] == 'Female']['vaccine_response']\n",
    "t_statistic, p_value = ttest_ind(male_response, female_response)\n",
    "print(f\"T-statistic: {t_statistic}\")\n",
    "print(f\"p-value: {p_value}\")"
   ]
  },
  {
   "cell_type": "code",
   "execution_count": null,
   "metadata": {},
   "outputs": [
    {
     "name": "stdout",
     "output_type": "stream",
     "text": [
      "Levene's Test p-value: 0.7557978692307444\n"
     ]
    }
   ],
   "source": [
    "stat, p_value = levene(male_response, female_response)\n",
    "print(f\"Levene's Test p-value: {p_value}\")"
   ]
  },
  {
   "cell_type": "markdown",
   "metadata": {},
   "source": [
    "### Pearson correlation"
   ]
  },
  {
   "cell_type": "code",
   "execution_count": 18,
   "metadata": {},
   "outputs": [
    {
     "name": "stdout",
     "output_type": "stream",
     "text": [
      "Correlation coefficient: 0.10360991493916716\n",
      "p-value: 0.07661003088824983\n"
     ]
    }
   ],
   "source": [
    "correlation, p_value = pearsonr(fluprint_data['visit_age'], fluprint_data['vaccine_response'])\n",
    "print(f\"Correlation coefficient: {correlation}\")\n",
    "print(f\"p-value: {p_value}\")"
   ]
  }
 ],
 "metadata": {
  "kernelspec": {
   "display_name": "Python 3",
   "language": "python",
   "name": "python3"
  },
  "language_info": {
   "codemirror_mode": {
    "name": "ipython",
    "version": 3
   },
   "file_extension": ".py",
   "mimetype": "text/x-python",
   "name": "python",
   "nbconvert_exporter": "python",
   "pygments_lexer": "ipython3",
   "version": "3.12.9"
  }
 },
 "nbformat": 4,
 "nbformat_minor": 2
}
